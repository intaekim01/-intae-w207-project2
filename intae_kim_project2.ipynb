{
 "cells": [
  {
   "cell_type": "markdown",
   "metadata": {
    "id": "iNALzZOKTzOS"
   },
   "source": [
    "# Project 2: Digit Classification Naive Bayes\n",
    "\n",
    "**Solution**"
   ]
  },
  {
   "cell_type": "markdown",
   "metadata": {
    "id": "EBRkdIUUTzOV"
   },
   "source": [
    "# Intro\n",
    "---\n",
    "In this project, you'll continue working on your own image recognition system for classifying digits. Read through the code and the instructions carefully and add your own code where indicated. Each problem can be addressed succinctly with the included packages -- please don't add any more. \n",
    "As always, you're welcome to work on the project in groups and discuss ideas over Slack, but <b> please prepare your own write-up (with your own code). </b>\n",
    "\n",
    "\n",
    "## Grading\n",
    "---\n",
    " - Make sure to answer every part in every question.\n",
    " - There are 6 questions, each equally weighted and an additional bonus question.\n",
    " - The extra credit question will be graded based on your attempts at feature engineering and resulting improved accuracy.\n",
    " - Read carefully what is asked including the notes.\n",
    " - Additional points may be deducted if:\n",
    "   - the code is not clean, well commented,\n",
    "  -  if the functions or answers are too long.\n",
    "\n",
    "## Requirements:\n",
    "---\n",
    "1. Comment your code.\n",
    "1. All graphs should have titles, label for each axis, and if needed a legend. It should be understandable on its own.\n",
    "1. All code must run on colab.research.google.com\n",
    "1. You should not import any additional libraries.\n",
    "1. Try and minimize the use of the global namespace (meaning keep things in functions).\n",
    "\n",
    "## Additional Reading and notes\n",
    "---\n",
    "If you're interested, check out these links related to digit recognition:\n",
    "\n",
    "* Yann Lecun's MNIST benchmarks: http://yann.lecun.com/exdb/mnist/\n",
    "* Stanford Streetview research and data: http://ufldl.stanford.edu/housenumbers/\n",
    "\n",
    "Finally, if you'd like to get started with Tensorflow, you can read through this tutorial: https://www.tensorflow.org/tutorials/keras/basic_classification. It uses a dataset called \"fashion_mnist\", which is identical in structure to the original digit mnist, but uses images of clothing rather than images of digits. The number of training examples and number of labels is the same. In fact, you can simply replace the code that loads \"fashion_mnist\" with \"mnist\" and everything should work fine."
   ]
  },
  {
   "cell_type": "code",
   "execution_count": 1,
   "metadata": {
    "id": "r8u7GmsDTzOX"
   },
   "outputs": [],
   "source": [
    "# This tells matplotlib not to try opening a new window for each plot.\n",
    "%matplotlib inline\n",
    "\n",
    "# Import a bunch of libraries.\n",
    "import time\n",
    "import numpy as np\n",
    "import pandas as pd\n",
    "import matplotlib.pyplot as plt\n",
    "from matplotlib.ticker import MultipleLocator\n",
    "from sklearn.pipeline import Pipeline\n",
    "from sklearn.datasets import fetch_openml\n",
    "from sklearn.neighbors import KNeighborsClassifier\n",
    "from sklearn.metrics import confusion_matrix\n",
    "from sklearn.linear_model import LinearRegression\n",
    "from sklearn.naive_bayes import BernoulliNB\n",
    "from sklearn.naive_bayes import MultinomialNB\n",
    "from sklearn.naive_bayes import GaussianNB\n",
    "from sklearn.model_selection import GridSearchCV\n",
    "from sklearn.metrics import classification_report\n",
    "\n",
    "# Set the randomizer seed so results are the same each time.\n",
    "np.random.seed(0)"
   ]
  },
  {
   "cell_type": "code",
   "execution_count": 2,
   "metadata": {
    "id": "bWOWoq_dTzOY"
   },
   "outputs": [
    {
     "data": {
      "text/plain": [
       "'0.24.2'"
      ]
     },
     "execution_count": 2,
     "metadata": {},
     "output_type": "execute_result"
    }
   ],
   "source": [
    "import sklearn\n",
    "sklearn.__version__"
   ]
  },
  {
   "cell_type": "markdown",
   "metadata": {
    "id": "J1-CAjA9TzOa"
   },
   "source": [
    "Load the data. Notice that the data gets partitioned into training, development, and test sets. Also, a small subset of the training data called mini_train_data and mini_train_labels gets defined, which you should use in all the experiments below, unless otherwise noted."
   ]
  },
  {
   "cell_type": "code",
   "execution_count": 3,
   "metadata": {
    "id": "f9kPmCW0TzOb"
   },
   "outputs": [
    {
     "name": "stdout",
     "output_type": "stream",
     "text": [
      "data shape:  (70000, 784)\n",
      "label shape: (70000,)\n"
     ]
    }
   ],
   "source": [
    "# Load the digit data from https://www.openml.org/d/554 or from default local location '~/scikit_learn_data/...'\n",
    "X, Y = fetch_openml(name='mnist_784', as_frame=False, return_X_y=True, cache=False)\n",
    "\n",
    "# Rescale grayscale values to [0,1].\n",
    "X = X / 255.0\n",
    "\n",
    "# Shuffle the input: create a random permutation of the integers between 0 and the number of data points and apply this\n",
    "# permutation to X and Y.\n",
    "# NOTE: Each time you run this cell, you'll re-shuffle the data, resulting in a different ordering.\n",
    "shuffle = np.random.permutation(np.arange(X.shape[0]))\n",
    "X, Y = X[shuffle], Y[shuffle]\n",
    "\n",
    "print('data shape: ', X.shape)\n",
    "print('label shape:', Y.shape)\n",
    "\n",
    "# Set some variables to hold test, dev, and training data.\n",
    "test_data, test_labels = X[61000:], Y[61000:]\n",
    "dev_data, dev_labels = X[60000:61000], Y[60000:61000]\n",
    "train_data, train_labels = X[:60000], Y[:60000]\n",
    "mini_train_data, mini_train_labels = X[:1000], Y[:1000]"
   ]
  },
  {
   "cell_type": "markdown",
   "metadata": {
    "id": "gr40-NstTzOl"
   },
   "source": [
    "### Question 1: Applying a smoothing using numpy.\n",
    "---\n",
    "\n",
    "A common image processing technique is to smooth an image by **blurring**. The idea is that the value of a particular pixel is estimated as the weighted combination of the original value and the values around it. Typically, the blurring is Gaussian, i.e., the weight of a pixel's influence is determined by a Gaussian function over the distance to the relevant pixel.\n",
    "\n",
    "1. Implement a simplified Gaussian blur filter by just using the 8 neighboring pixels like this: the smoothed value of a pixel is a weighted combination of the original value and the 8 neighboring values.\n",
    "1. Choose some weights as a starting point. Produce and evaluate four 1-Nearest Neighbor models by applying your blur filter in these ways:\n",
    "  1. Do not use the filter\n",
    "  1. Filter the training data but not the dev data\n",
    "  1. Filter the dev data but not the training data\n",
    "  1. Filter both training data and dev data\n",
    "1. Show the accuracies of the four models evaluated as described. What do you see? Can you explain why this is?\n",
    "1. Experiment with weights that makes one model's accuracy at least 0.9.\n",
    "\n",
    "Notes:\n",
    "* Train on the (filtered) mini train set.\n",
    "* Evaluate performance on the (filtered) dev set.\n",
    "* A good trick to simplify your code is to use numpy's pad function to add 0s around your original array so you don't have to deal with \"edge cases\".\n",
    "* In addition, you can use numpy to multiply and sum slices of two arrays.\n",
    "* [This notebook](https://colab.research.google.com/drive/1eJXTQLtREXQjQIsLOA9uCrBl6B049-pO) might help shows some example numpy code.\n",
    "* In general, [numpy operations will be much faster than for loops](https://colab.research.google.com/drive/1KJI4JtuIqVdyZHTTe_mAlKYA5XdLFp3_). \n",
    "* There are other Guassian blur filters available, for example in `scipy.ndimage.filters`. You are welcome to experiment with those, but in this question, please implement your own."
   ]
  },
  {
   "cell_type": "code",
   "execution_count": 4,
   "metadata": {
    "id": "ebHGUU0eTzOl"
   },
   "outputs": [
    {
     "name": "stdout",
     "output_type": "stream",
     "text": [
      "Prediction accuracy without filter: 0.884\n",
      "Prediction accuracy with filter on training data: 0.907\n",
      "Prediction accuracy with filter on dev data: 0.868\n",
      "Prediction accuracy with filter on both training and dev data: 0.905\n"
     ]
    }
   ],
   "source": [
    "def Q1():\n",
    "    \n",
    "### STUDENT START ###\n",
    "    def blur(data):\n",
    "        arr = data.reshape(-1,28,28)\n",
    "        #Adding 0s around original array to handle edge cases\n",
    "        arr = np.pad(arr, (1,1), 'constant', constant_values=(0))\n",
    "        filtered_arr = np.zeros(arr.shape)\n",
    "        #Starting from original first index\n",
    "        index = 0\n",
    "        #Iterating through each pixel of each example\n",
    "        for img in arr:\n",
    "            row = 1\n",
    "            while row < len(img) - 1:\n",
    "                col = 1\n",
    "                while col < len(img[0]) - 1:\n",
    "                    #Summing original pixel with 8 neighbouring pixels\n",
    "                    total = img[row - 1, col + 1] +\\\n",
    "                            img[row, col + 1] +\\\n",
    "                            img[row + 1, col + 1] +\\\n",
    "                            img[row - 1, col] +\\\n",
    "                            img[row, col] +\\\n",
    "                            img[row + 1, col] +\\\n",
    "                            img[row + 1, col - 1] +\\\n",
    "                            img[row, col - 1] +\\\n",
    "                            img[row - 1, col - 1]\n",
    "                    \n",
    "                    #Adding pixel smoothed value to filtered_arr\n",
    "                    filtered_arr[index][row][col] = total/9\n",
    "                    col +=1 \n",
    "                row += 1\n",
    "            index += 1\n",
    "\n",
    "        #Returning array with padding removed\n",
    "        return filtered_arr[1:-1,1:-1,1:-1].reshape(data.shape)\n",
    "\n",
    "    knn = KNeighborsClassifier(n_neighbors=1, p=2, metric='minkowski')\n",
    "    knn.fit(mini_train_data, mini_train_labels)\n",
    "    y_pred = knn.predict(dev_data)\n",
    "    accuracy = sklearn.metrics.accuracy_score(dev_labels, y_pred)\n",
    "    print(f'Prediction accuracy without filter: {accuracy}')\n",
    "\n",
    "    knn = KNeighborsClassifier(n_neighbors=1, p=2, metric='minkowski')\n",
    "    knn.fit(blur(mini_train_data), mini_train_labels)\n",
    "    y_pred = knn.predict(dev_data)\n",
    "    accuracy = sklearn.metrics.accuracy_score(dev_labels, y_pred)\n",
    "    print(f'Prediction accuracy with filter on training data: {accuracy}')\n",
    "    \n",
    "    knn = KNeighborsClassifier(n_neighbors=1, p=2, metric='minkowski')\n",
    "    knn.fit(mini_train_data, mini_train_labels)\n",
    "    y_pred = knn.predict(blur(dev_data))\n",
    "    accuracy = sklearn.metrics.accuracy_score(dev_labels, y_pred)\n",
    "    print(f'Prediction accuracy with filter on dev data: {accuracy}')\n",
    "    \n",
    "    knn = KNeighborsClassifier(n_neighbors=1, p=2, metric='minkowski')\n",
    "    knn.fit(blur(mini_train_data), mini_train_labels)\n",
    "    y_pred = knn.predict(blur(dev_data))\n",
    "    accuracy = sklearn.metrics.accuracy_score(dev_labels, y_pred)\n",
    "    print(f'Prediction accuracy with filter on both training and dev data: {accuracy}')\n",
    "### STUDENT END ###\n",
    "\n",
    "Q1()"
   ]
  },
  {
   "cell_type": "markdown",
   "metadata": {},
   "source": [
    "Accuracies are highest when the training data is blurred, which reduces the possibility of overfitting in our model."
   ]
  },
  {
   "cell_type": "markdown",
   "metadata": {
    "id": "aN3HZPGuTzOn"
   },
   "source": [
    "### Question 2: Modeling your data and experimenting with different Naive Bayes models. \n",
    "---\n",
    "\n",
    "1. Produce two Naive Bayes models and evaluate their performances.  Recall that Naive Bayes estimates P(feature|label), where each label is a categorical, not a real number.\n",
    "  1. For the first model, map pixel values to either 0 or 1, representing white or black - you should pre-process the data or use `BernoulliNB`'s `binarize` parameter to set the white/black separation threshold to 0.1.  Use `BernoulliNB` to produce the model.\n",
    "  1. For the second model, map pixel values to either 0, 1, or 2, representing white, gray, or black - you should pre-process the data, seting the white/gray/black separation thresholds to 0.1 and 0.9.  Here you'll likely need to implement a `trianarize` helper function. Since we are going beyond the binary representation of our features, you should use `MultinomialNB` to produce the model.\n",
    "1. Show the Bernoulli model accuracy and the Multinomial model accuracy.\n",
    "1. Does the multinomial version improve the results? Why or why not?\n",
    "\n",
    "Notes:\n",
    "* Train on the mini train set.\n",
    "* Evaluate performance on the dev set.\n",
    "\n"
   ]
  },
  {
   "cell_type": "code",
   "execution_count": 5,
   "metadata": {
    "id": "_1edM3ehTzOn"
   },
   "outputs": [
    {
     "name": "stdout",
     "output_type": "stream",
     "text": [
      "Prediction accuracy for Bernoulli Naive Bayes: 0.814\n",
      "Prediction accuracy for Multinomial Naive Bayes: 0.807\n"
     ]
    }
   ],
   "source": [
    "def Q2():\n",
    "\n",
    "### STUDENT START ###\n",
    "    bnb = BernoulliNB(binarize=0.1)\n",
    "    bnb.fit(mini_train_data, mini_train_labels)\n",
    "    print('Prediction accuracy for Bernoulli Naive Bayes: %3.3f' % bnb.score(dev_data, dev_labels))\n",
    "    \n",
    "    #Implementing function to trianarize pixel values\n",
    "    def trianarize(x):\n",
    "        if x < 0.1:\n",
    "            return 0\n",
    "        elif x < 0.9:\n",
    "            return 1\n",
    "        else:\n",
    "            return 2\n",
    "    \n",
    "    #Fitting Multinomial Naive Bayes to trianarized data\n",
    "    mnb = MultinomialNB()\n",
    "    mnb.fit(np.vectorize(trianarize)(mini_train_data), mini_train_labels)\n",
    "    print('Prediction accuracy for Multinomial Naive Bayes: %3.3f' % mnb.score(dev_data, dev_labels))    \n",
    "### STUDENT END ###\n",
    "\n",
    "Q2()"
   ]
  },
  {
   "cell_type": "markdown",
   "metadata": {
    "id": "Bbbpzl5ETzOp"
   },
   "source": [
    "ANSWER: The accuracy remains relatively the same, which is not surprising as our implementation of the trianarize function provides very little useful information in addition to binarization of pixel values. In the context of our problem, binarize reduces pixel values to a simple determination of whether or not a pixel is colored in, while the trianarize function adds an additional value in the middle which likely would not help our model classify a digit."
   ]
  },
  {
   "cell_type": "markdown",
   "metadata": {
    "id": "ymzuQZwsTzOp"
   },
   "source": [
    "### Question 3: Applying the grid search technique.\n",
    "1. Search across several values of the LaPlace smoothing parameter (alpha) to find its effect on a Bernoulli Naive Bayes model's performance.  Show the accuracy at each alpha value.\n",
    "1. What is the best value for alpha? What is the accuracy when alpha is near 0? Is this what you'd expect?\n",
    "\n",
    "Notes:\n",
    "* Set binarization threshold to 0.\n",
    "* Train on the mini train set.\n",
    "* Evaluate performance by 5-fold cross-validation. \n",
    "* Use `GridSearchCV(..., ..., cv=..., scoring='accuracy', iid=False)` to vary alpha and evaluate performance by cross-validation.\n",
    "* Cross-validation is based on partitions of the training data, so results will be a bit different than if you had used the dev set to evaluate performance.\n",
    "\n"
   ]
  },
  {
   "cell_type": "code",
   "execution_count": 6,
   "metadata": {
    "id": "1qc1fG0OTzOq"
   },
   "outputs": [
    {
     "name": "stdout",
     "output_type": "stream",
     "text": [
      "Alpha: 1e-10  Accuracy: 0.814\n",
      "Alpha: 0.0001  Accuracy: 0.819\n",
      "Alpha: 0.001  Accuracy: 0.825\n",
      "Alpha: 0.01  Accuracy: 0.822\n",
      "Alpha: 0.1  Accuracy: 0.818\n",
      "Alpha: 0.5  Accuracy: 0.813\n",
      "Alpha: 1.0  Accuracy: 0.809\n",
      "Alpha: 2.0  Accuracy: 0.805\n",
      "Alpha: 10.0  Accuracy: 0.783\n"
     ]
    }
   ],
   "source": [
    "def Q3(alphas):\n",
    "\n",
    "### STUDENT START ###\n",
    "    gs = GridSearchCV(BernoulliNB(binarize=0), param_grid=alphas, cv=5, scoring='accuracy')\n",
    "    gs.fit(mini_train_data, mini_train_labels)\n",
    "    #Iterating through grid search generated alpha values and corresponding accuracies\n",
    "    for i, j in zip(gs.cv_results_['params'], gs.cv_results_['mean_test_score']):\n",
    "        print(f\"Alpha: {i['alpha']}  Accuracy: {j:.3f}\")\n",
    "    \n",
    "### STUDENT END ###\n",
    "\n",
    "alphas = {'alpha': [1.0e-10, 0.0001, 0.001, 0.01, 0.1, 0.5, 1.0, 2.0, 10.0]}\n",
    "Q3(alphas)\n"
   ]
  },
  {
   "cell_type": "markdown",
   "metadata": {
    "id": "6g4fnGFPTzOq"
   },
   "source": [
    "ANSWER: The best value for alpha is 0.001 with a mean accuracy score of .825. The accuracy is .814 at the alpha value closest to 0. This lower accuracy is observed as we traverse through ascending values of alpha to determine the optimal alpha for accuracy."
   ]
  },
  {
   "cell_type": "markdown",
   "metadata": {
    "id": "aQ6MaDU6TzOr"
   },
   "source": [
    "### Question 4: Experimenting with Gaussian Naive Bayes\n",
    "---\n",
    "1. Produce a model using Guassian Naive Bayes, which is intended for real-valued features, and evaluate performance. You will notice that it does not work so well. \n",
    "1. Diagnose and explain the problem.\n",
    "1. Apply a simple fix so that the model accuracy is around the same as for a Bernoulli Naive Bayes model. \n",
    "1. Show the model accuracy before your fix and the model accuracy after your fix.  \n",
    "1. Explain your solution.\n",
    "\n",
    "Notes:\n",
    "* Train on the mini train set.\n",
    "* Evaluate performance on the dev set.\n",
    "* Take a look at var_smoothing argument for GaussianNB.\n",
    "* Feel free to  examine theta and sigma to better understand what's happening. In general though, **it is not a good idea to mess with internal variables of the model**. These are stored in the model's `theta_` and `sigma_` attributes."
   ]
  },
  {
   "cell_type": "code",
   "execution_count": 7,
   "metadata": {
    "id": "XqW86YbKTzOr"
   },
   "outputs": [
    {
     "name": "stdout",
     "output_type": "stream",
     "text": [
      "Prediction accuracy for base Gaussian Naive Bayes: 0.59\n",
      "Prediction accuracy for improved Gaussian Naive Bayes: 0.82\n"
     ]
    },
    {
     "data": {
      "image/png": "[encoded data removed]",
      "text/plain": [
       "<Figure size 720x720 with 2 Axes>"
      ]
     },
     "metadata": {
      "needs_background": "light"
     },
     "output_type": "display_data"
    }
   ],
   "source": [
    "def Q4():\n",
    "\n",
    "### STUDENT END ###\n",
    "    gnb = GaussianNB()\n",
    "    gnb.fit(mini_train_data, mini_train_labels)\n",
    "    print('Prediction accuracy for base Gaussian Naive Bayes: %3.2f' % gnb.score(dev_data, dev_labels))\n",
    "    \n",
    "    #Visualizing theta and sigma\n",
    "    fig, ax = plt.subplots(2, figsize=(10,10))\n",
    "    ax[0].hist(gnb.theta_)\n",
    "    ax[0].title.set_text('Theta Distribution')\n",
    "    ax[1].hist(gnb.sigma_)\n",
    "    ax[1].title.set_text('Sigma Distribution')\n",
    "    \n",
    "    #Re-fitting Gaussian Naive Bayes model with var_smoothing applied\n",
    "    gnb = GaussianNB(var_smoothing=0.1)\n",
    "    gnb.fit(mini_train_data, mini_train_labels)\n",
    "    print('Prediction accuracy for improved Gaussian Naive Bayes: %3.2f' % gnb.score(dev_data, dev_labels))\n",
    "### STUDENT END ###\n",
    "\n",
    "Q4()"
   ]
  },
  {
   "cell_type": "markdown",
   "metadata": {
    "id": "wE5eQXsPTzOs"
   },
   "source": [
    "ANSWER: The theta and sigma for the Gaussian Naive Bayes model are grouped around 0, which is signaling that many of our conditional probabilities are zeroing out. By applying a nonzero value of var_smoothing, we can approach an accuracy comparable to our Bernoulli Naive Bayes model."
   ]
  },
  {
   "cell_type": "markdown",
   "metadata": {
    "id": "AXx4SGNeTzOs"
   },
   "source": [
    "### Question 5: Naive Bayes as a generative model\n",
    "---\n",
    "Because Naive Bayes produces a generative model, you can use it to generate digit images.\n",
    "\n",
    "1. Produce a Bernoulli Naive Bayes model and then use it to generate a 10x10 grid with 10 example images of each digit. Each pixel output will be either 0 or 1: randomly generating a number and then comparing it to the estimated probability of the pixel being either 0 or 1.  Show the grid.\n",
    "1. How do the generated digit images compare to the training digit images?\n",
    "\n",
    "Notes:\n",
    "* You can use np.random.rand() to generate random numbers from a uniform distribution.\n",
    "* The estimated probability of each pixel being 0 or 1 is stored in the model's `feature_log_prob_` attribute. You can use `np.exp()` to convert a log probability back to a probability.\n",
    "\n"
   ]
  },
  {
   "cell_type": "code",
   "execution_count": 8,
   "metadata": {},
   "outputs": [
    {
     "data": {
      "image/png": "[encoded data removed]",
      "text/plain": [
       "<Figure size 1440x1440 with 100 Axes>"
      ]
     },
     "metadata": {
      "needs_background": "light"
     },
     "output_type": "display_data"
    }
   ],
   "source": [
    "def Q5(num_examples):\n",
    "\n",
    "### STUDENT START ###\n",
    "    bnb = BernoulliNB(binarize=0.1)\n",
    "    bnb.fit(mini_train_data, mini_train_labels)\n",
    "    #Initializing result array for ten examples of each digit\n",
    "    res = np.zeros((100,784))\n",
    "    digit_index = 0\n",
    "    #Looping through conditional probabilities of BernoulliNB\n",
    "    for i in range(0,10):\n",
    "        for digit in np.exp(bnb.feature_log_prob_):\n",
    "            index = 0\n",
    "            while index < len(digit):\n",
    "                #Comparing randomly generated number to estimated conditional probability\n",
    "                if np.random.rand() < digit[index]:\n",
    "                    res[digit_index][index] = 1\n",
    "                else:\n",
    "                    res[digit_index][index] = 0\n",
    "                index += 1\n",
    "            digit_index += 1\n",
    "        \n",
    "    def print_digits(data, num_examples=10):\n",
    "        plt.figure(figsize=(20,20))\n",
    "        plt.title('Sample of Digits')\n",
    "        index = 0\n",
    "        for i in range(0, num_examples):\n",
    "            for j in range(0, num_examples):\n",
    "                #Creating a subplot at each ith,jth index\n",
    "                plt.subplot(num_examples, num_examples, int(str(i) + str(j)) + 1)\n",
    "                #Indexing train_data for first 10 examples of each digit\n",
    "                plt.imshow(np.reshape(data[index], (28,28)), cmap=plt.get_cmap('gray'))\n",
    "                index += 1\n",
    "    \n",
    "    print_digits(res, num_examples)\n",
    "        \n",
    "### STUDENT END ###\n",
    "\n",
    "Q5(10)"
   ]
  },
  {
   "cell_type": "markdown",
   "metadata": {
    "id": "2ENXdzngTzOu"
   },
   "source": [
    "ANSWER: The generated digit images are significantly grainier due to the process by which the pixel output is generated. As there is a nonzero probability of each pixel being \"colored in\", pixels around the rough outline of each digit's shape are highlighted. However, as these pixels are generated by comparing against the conditional probabilities from the Bernoulli Naive Bayes, we see that all generated examples still roughly look like our training examples."
   ]
  },
  {
   "cell_type": "markdown",
   "metadata": {
    "id": "CRkUEi50TzOu"
   },
   "source": [
    "### Question 6: Model Calibraiton\n",
    "---\n",
    "Recall that:\n",
    " * a **strongly calibrated** classifier is rougly 90% accurate when it says it is 90% accurate. The model's estimated posterior probability of the predicted class is indeed 0.9. \n",
    " * A **weakly calibrated** classifier is more accurate when it \"says\" it is more accurate. The actual accuracy is higher when the model's estimated posterior probability is higher.\n",
    " * A **poorly calibrated** classifier has no positive correlation between the model's estimate posterior probability and the actual accuracy.\n",
    "\n",
    "1. Produce a Bernoulli Naive Bayes model.  \n",
    "1. Evaluate performance: \n",
    "  1. Partition the dev set into several buckets based on the estimated posterior probabilities of the predicted classes (predict_proba)\n",
    "    - Think of it as a bin in a histogram, where each bin groups a range of estimated posterior probabilities of the predicted classes (predict_proba).\n",
    "    - Then estimate the actual accuracy the classifier achieved for each bucket. \n",
    "    - So, for each prediction:\n",
    "       - Find the bucket whose range includes the estimated posterior probability, \n",
    "       - and update \"correct\" and \"total\" counters accordingly. \n",
    "       - Show the accuracy for each bucket.\n",
    "1. How would you characterize the calibration for this Bernoulli Naive Bayes model according to the definitions above?\n",
    "\n",
    "Notes:\n",
    "* Set LaPlace smoothing (alpha) to the optimal value (from part 8).\n",
    "* Set binarization threshold to 0.\n",
    "* Train on the mini train set.\n",
    "* Evaluate perfromance on the dev set.\n",
    "\n"
   ]
  },
  {
   "cell_type": "code",
   "execution_count": 16,
   "metadata": {
    "id": "3Gz3NDY9TzOu"
   },
   "outputs": [
    {
     "name": "stdout",
     "output_type": "stream",
     "text": [
      "Prediction accuracy for Bernoulli Naive Bayes: 0.82\n",
      "Bucket 0.5 has an accuracy of 0.35\n",
      "Bucket 0.9 has an accuracy of 0.43\n",
      "Bucket 0.999 has an accuracy of 0.46\n",
      "Bucket 0.99999 has an accuracy of 0.65\n",
      "Bucket 0.9999999 has an accuracy of 0.77\n",
      "Bucket 0.999999999 has an accuracy of 0.79\n",
      "Bucket 0.99999999999 has an accuracy of 0.79\n",
      "Bucket 0.9999999999999 has an accuracy of 0.84\n",
      "Bucket 1.0 has an accuracy of 0.94\n"
     ]
    }
   ],
   "source": [
    "def Q6(buckets, correct, total):\n",
    "    \n",
    "### STUDENT START ###\n",
    "    bnb = BernoulliNB(binarize=0, alpha=.001)\n",
    "    bnb.fit(mini_train_data, mini_train_labels)\n",
    "    print('Prediction accuracy for Bernoulli Naive Bayes: %3.2f' % bnb.score(dev_data, dev_labels))\n",
    "    \n",
    "    #Iterating through predicted value and actual value\n",
    "    for estimate, actual in zip(bnb.predict_proba(dev_data), dev_labels):\n",
    "        #Determining which bin the estimated posterior probability belongs to\n",
    "        index = np.digitize(estimate.max(), buckets) - 1\n",
    "        total[index] += 1\n",
    "        #Incrementing corresponding \"correct\" bucket if predicted value and actual value are equivalent\n",
    "        if estimate.argmax() == int(actual):\n",
    "            correct[index] += 1\n",
    "            \n",
    "    accuracies = [i/j for i,j in zip(correct, total)]\n",
    "    for bucket, accuracy in zip(buckets, accuracies):\n",
    "        print(f'Bucket {bucket} has an accuracy of {accuracy:.2f}')\n",
    "### STUDENT END ###\n",
    "\n",
    "buckets = [0.5, 0.9, 0.999, 0.99999, 0.9999999, 0.999999999, 0.99999999999, 0.9999999999999, 1.0]\n",
    "correct = [0 for i in buckets]\n",
    "total = [0 for i in buckets]\n",
    "\n",
    "Q6(buckets, correct, total)"
   ]
  },
  {
   "cell_type": "markdown",
   "metadata": {
    "id": "7PYLz-1STzOu"
   },
   "source": [
    "ANSWER: I would clasify  the model  as being weakly calibrated, as actual accuracy is not equivalent to estimated posterior probability, but does increase as estimated accuracy increses."
   ]
  },
  {
   "cell_type": "markdown",
   "metadata": {
    "id": "tIeZGen1TzOv"
   },
   "source": [
    "### Question 7 EXTRA CREDIT: Feature generation\n",
    "---\n",
    "1. Design new features to see if you can produce a Bernoulli Naive Bayes model with better performance.\n",
    "1. Show the accuracy of a model based on the original features and the accuracy of the model based on the new features.\n",
    "\n",
    "**Note that improving results is actually hard.**\n",
    "\n",
    "Here are a few ideas to get you started:\n",
    "- Try summing or averaging the pixel values in each row.\n",
    "- Try summing or averaging the pixel values in each column.\n",
    "- Try summing or averaging the pixel values in each square block. (pick various block sizes)\n",
    "- Try implementing [*maxpool*](https://computersciencewiki.org/index.php/Max-pooling_/_Pooling) features, taking a rolling maximum over sub-regions of a the image. \n",
    "- In any case, you can either transform the original data or add new \"features\" to it.\n",
    "\n",
    "Notes:\n",
    "* Train on the mini train set (enhanced to comprise the new features).\n",
    "* Evaulate performance on the dev set.\n",
    "* Ensure that your code is well commented."
   ]
  },
  {
   "cell_type": "code",
   "execution_count": 18,
   "metadata": {
    "id": "6GtYu5ezTzOv"
   },
   "outputs": [
    {
     "ename": "IndentationError",
     "evalue": "expected an indented block (<ipython-input-18-57d016c02e77>, line 7)",
     "output_type": "error",
     "traceback": [
      "\u001b[1;36m  File \u001b[1;32m\"<ipython-input-18-57d016c02e77>\"\u001b[1;36m, line \u001b[1;32m7\u001b[0m\n\u001b[1;33m    Q7()\u001b[0m\n\u001b[1;37m     ^\u001b[0m\n\u001b[1;31mIndentationError\u001b[0m\u001b[1;31m:\u001b[0m expected an indented block\n"
     ]
    }
   ],
   "source": [
    "def Q7():\n",
    "\n",
    "### STUDENT START ###\n",
    "\n",
    "### STUDENT END ###\n",
    "\n",
    "Q7()"
   ]
  },
  {
   "cell_type": "code",
   "execution_count": null,
   "metadata": {},
   "outputs": [],
   "source": []
  },
  {
   "cell_type": "code",
   "execution_count": null,
   "metadata": {
    "id": "4hOkGA6Rufd6"
   },
   "outputs": [],
   "source": []
  }
 ],
 "metadata": {
  "colab": {
   "collapsed_sections": [],
   "name": "firstname_lastname_project2.ipynb",
   "provenance": []
  },
  "kernelspec": {
   "display_name": "Python 3",
   "language": "python",
   "name": "python3"
  },
  "language_info": {
   "codemirror_mode": {
    "name": "ipython",
    "version": 3
   },
   "file_extension": ".py",
   "mimetype": "text/x-python",
   "name": "python",
   "nbconvert_exporter": "python",
   "pygments_lexer": "ipython3",
   "version": "3.6.13"
  },
  "toc": {
   "base_numbering": 1,
   "nav_menu": {},
   "number_sections": false,
   "sideBar": true,
   "skip_h1_title": true,
   "title_cell": "Table of Contents",
   "title_sidebar": "Contents",
   "toc_cell": false,
   "toc_position": {},
   "toc_section_display": true,
   "toc_window_display": false
  }
 },
 "nbformat": 4,
 "nbformat_minor": 1
}
